{
 "cells": [
  {
   "cell_type": "markdown",
   "metadata": {},
   "source": [
    "# Assignment 1: Pandas & Seaborn\n",
    "## [Scientific Computing with Python](https://scicompy.yoavram.com/)\n",
    "## Yoav Ram"
   ]
  },
  {
   "cell_type": "code",
   "execution_count": 145,
   "metadata": {},
   "outputs": [],
   "source": [
    "%matplotlib inline\n",
    "import matplotlib.pyplot as plt\n",
    "import scipy\n",
    "import numpy as np\n",
    "import urllib.request\n",
    "import zipfile\n",
    "import os.path\n",
    "from datetime import datetime\n",
    "import pandas as pd\n",
    "import seaborn as sns\n",
    "sns.set_context('notebook')\n",
    "sns.set_palette('muted')"
   ]
  },
  {
   "cell_type": "markdown",
   "metadata": {},
   "source": [
    "# General instructions\n",
    "\n",
    "1. When instructed to implement a function, use the given function names and parameters lists; failure to do so may cause test functions to fail during grading.\n",
    "1. When instructed to generate a plot, make sure that the plot is clear, that axes are propely labeled, and that the notebook is saved with the plot inline, so that the grader can see the plot without running the code. Make sure that you re-generate the plot if you changed the code!\n",
    "1. Code lines with a triple comment `###` should not be removed or modified, they are used for automatic grading.\n",
    "1. Note that there are 2 exercises and the last cell in the notebook says **end of assignment**; if you are missing anything please download the origianl file from the course website.\n",
    "1. This exercise doesn't put much emphasis on efficieny or runtime. *But*, your code should still run within a reasonable time (a few minutes) and you should use idioms learned in class, e.g. array opreations, wherever possible to \"lose your loops\".\n",
    "1. Questions regarding the exercises should be posted to the course forum at the designated group (i.e. \"assignment1\"). You can also visit the Office Hours, but please do not email the course staff with questions about the exercise.\n",
    "1. Intructions for submitting the exercise are on the [course website](https://scicompy.yoavram.com/assignments)."
   ]
  },
  {
   "cell_type": "markdown",
   "metadata": {},
   "source": [
    "# Exercise 1\n",
    "\n",
    "In this question we will look for a relation between body mass of an adult and the body mass at birth weight in the animal kingdom.\n",
    "\n",
    "For this analysis we will load the [AnAge](http://genomics.senescence.info/download.html#anage) dataset that we used in [lecture 1](../notebooks/pandas-seaborn.ipynb)."
   ]
  },
  {
   "cell_type": "markdown",
   "metadata": {},
   "source": [
    "Get the zip file containing the data, extract it and read the data to a `DataFrame`. We are interested in the `Litter/Clutch size` and `Birth weight (g)` columns."
   ]
  },
  {
   "cell_type": "code",
   "execution_count": 146,
   "metadata": {
    "collapsed": false,
    "jupyter": {
     "outputs_hidden": false
    }
   },
   "outputs": [
    {
     "name": "stdout",
     "output_type": "stream",
     "text": [
      "Data file exists: True\n"
     ]
    }
   ],
   "source": [
    "###\n",
    "url = 'http://genomics.senescence.info/species/dataset.zip'\n",
    "fname = '../data/anage_dataset.zip'\n",
    "if not os.path.exists(fname):\n",
    "    urllib.request.urlretrieve(url, fname)\n",
    "print(\"Data file exists:\", os.path.exists(fname))"
   ]
  },
  {
   "cell_type": "code",
   "execution_count": 147,
   "metadata": {
    "collapsed": false,
    "jupyter": {
     "outputs_hidden": false
    }
   },
   "outputs": [],
   "source": [
    "###\n",
    "with zipfile.ZipFile(fname) as z:\n",
    "    f = z.open('anage_data.txt')\n",
    "    data = pd.read_table(f)"
   ]
  },
  {
   "cell_type": "code",
   "execution_count": 148,
   "metadata": {},
   "outputs": [
    {
     "data": {
      "text/html": [
       "<div>\n",
       "<style scoped>\n",
       "    .dataframe tbody tr th:only-of-type {\n",
       "        vertical-align: middle;\n",
       "    }\n",
       "\n",
       "    .dataframe tbody tr th {\n",
       "        vertical-align: top;\n",
       "    }\n",
       "\n",
       "    .dataframe thead th {\n",
       "        text-align: right;\n",
       "    }\n",
       "</style>\n",
       "<table border=\"1\" class=\"dataframe\">\n",
       "  <thead>\n",
       "    <tr style=\"text-align: right;\">\n",
       "      <th></th>\n",
       "      <th>HAGRID</th>\n",
       "      <th>Kingdom</th>\n",
       "      <th>Phylum</th>\n",
       "      <th>Class</th>\n",
       "      <th>Order</th>\n",
       "      <th>Family</th>\n",
       "      <th>Genus</th>\n",
       "      <th>Species</th>\n",
       "      <th>Common name</th>\n",
       "      <th>Female maturity (days)</th>\n",
       "      <th>...</th>\n",
       "      <th>Source</th>\n",
       "      <th>Specimen origin</th>\n",
       "      <th>Sample size</th>\n",
       "      <th>Data quality</th>\n",
       "      <th>IMR (per yr)</th>\n",
       "      <th>MRDT (yrs)</th>\n",
       "      <th>Metabolic rate (W)</th>\n",
       "      <th>Body mass (g)</th>\n",
       "      <th>Temperature (K)</th>\n",
       "      <th>References</th>\n",
       "    </tr>\n",
       "  </thead>\n",
       "  <tbody>\n",
       "    <tr>\n",
       "      <td>0</td>\n",
       "      <td>3</td>\n",
       "      <td>Animalia</td>\n",
       "      <td>Arthropoda</td>\n",
       "      <td>Branchiopoda</td>\n",
       "      <td>Diplostraca</td>\n",
       "      <td>Daphniidae</td>\n",
       "      <td>Daphnia</td>\n",
       "      <td>pulicaria</td>\n",
       "      <td>Daphnia</td>\n",
       "      <td>NaN</td>\n",
       "      <td>...</td>\n",
       "      <td>NaN</td>\n",
       "      <td>unknown</td>\n",
       "      <td>medium</td>\n",
       "      <td>acceptable</td>\n",
       "      <td>NaN</td>\n",
       "      <td>NaN</td>\n",
       "      <td>NaN</td>\n",
       "      <td>NaN</td>\n",
       "      <td>NaN</td>\n",
       "      <td>1294,1295,1296</td>\n",
       "    </tr>\n",
       "    <tr>\n",
       "      <td>1</td>\n",
       "      <td>5</td>\n",
       "      <td>Animalia</td>\n",
       "      <td>Arthropoda</td>\n",
       "      <td>Insecta</td>\n",
       "      <td>Diptera</td>\n",
       "      <td>Drosophilidae</td>\n",
       "      <td>Drosophila</td>\n",
       "      <td>melanogaster</td>\n",
       "      <td>Fruit fly</td>\n",
       "      <td>7.0</td>\n",
       "      <td>...</td>\n",
       "      <td>NaN</td>\n",
       "      <td>captivity</td>\n",
       "      <td>large</td>\n",
       "      <td>acceptable</td>\n",
       "      <td>0.05</td>\n",
       "      <td>0.04</td>\n",
       "      <td>NaN</td>\n",
       "      <td>NaN</td>\n",
       "      <td>NaN</td>\n",
       "      <td>2,20,32,47,53,68,69,240,241,242,243,274,602,98...</td>\n",
       "    </tr>\n",
       "    <tr>\n",
       "      <td>2</td>\n",
       "      <td>6</td>\n",
       "      <td>Animalia</td>\n",
       "      <td>Arthropoda</td>\n",
       "      <td>Insecta</td>\n",
       "      <td>Hymenoptera</td>\n",
       "      <td>Apidae</td>\n",
       "      <td>Apis</td>\n",
       "      <td>mellifera</td>\n",
       "      <td>Honey bee</td>\n",
       "      <td>NaN</td>\n",
       "      <td>...</td>\n",
       "      <td>812</td>\n",
       "      <td>unknown</td>\n",
       "      <td>medium</td>\n",
       "      <td>acceptable</td>\n",
       "      <td>NaN</td>\n",
       "      <td>NaN</td>\n",
       "      <td>NaN</td>\n",
       "      <td>NaN</td>\n",
       "      <td>NaN</td>\n",
       "      <td>63,407,408,741,805,806,808,812,815,828,830,831...</td>\n",
       "    </tr>\n",
       "    <tr>\n",
       "      <td>3</td>\n",
       "      <td>8</td>\n",
       "      <td>Animalia</td>\n",
       "      <td>Arthropoda</td>\n",
       "      <td>Insecta</td>\n",
       "      <td>Hymenoptera</td>\n",
       "      <td>Formicidae</td>\n",
       "      <td>Cardiocondyla</td>\n",
       "      <td>obscurior</td>\n",
       "      <td>Cardiocondyla obscurior</td>\n",
       "      <td>NaN</td>\n",
       "      <td>...</td>\n",
       "      <td>1293</td>\n",
       "      <td>captivity</td>\n",
       "      <td>medium</td>\n",
       "      <td>acceptable</td>\n",
       "      <td>NaN</td>\n",
       "      <td>NaN</td>\n",
       "      <td>NaN</td>\n",
       "      <td>NaN</td>\n",
       "      <td>NaN</td>\n",
       "      <td>1293</td>\n",
       "    </tr>\n",
       "    <tr>\n",
       "      <td>4</td>\n",
       "      <td>9</td>\n",
       "      <td>Animalia</td>\n",
       "      <td>Arthropoda</td>\n",
       "      <td>Insecta</td>\n",
       "      <td>Hymenoptera</td>\n",
       "      <td>Formicidae</td>\n",
       "      <td>Lasius</td>\n",
       "      <td>niger</td>\n",
       "      <td>Black garden ant</td>\n",
       "      <td>NaN</td>\n",
       "      <td>...</td>\n",
       "      <td>411</td>\n",
       "      <td>unknown</td>\n",
       "      <td>medium</td>\n",
       "      <td>acceptable</td>\n",
       "      <td>NaN</td>\n",
       "      <td>NaN</td>\n",
       "      <td>NaN</td>\n",
       "      <td>NaN</td>\n",
       "      <td>NaN</td>\n",
       "      <td>411,813,814</td>\n",
       "    </tr>\n",
       "    <tr>\n",
       "      <td>...</td>\n",
       "      <td>...</td>\n",
       "      <td>...</td>\n",
       "      <td>...</td>\n",
       "      <td>...</td>\n",
       "      <td>...</td>\n",
       "      <td>...</td>\n",
       "      <td>...</td>\n",
       "      <td>...</td>\n",
       "      <td>...</td>\n",
       "      <td>...</td>\n",
       "      <td>...</td>\n",
       "      <td>...</td>\n",
       "      <td>...</td>\n",
       "      <td>...</td>\n",
       "      <td>...</td>\n",
       "      <td>...</td>\n",
       "      <td>...</td>\n",
       "      <td>...</td>\n",
       "      <td>...</td>\n",
       "      <td>...</td>\n",
       "      <td>...</td>\n",
       "    </tr>\n",
       "    <tr>\n",
       "      <td>4214</td>\n",
       "      <td>4239</td>\n",
       "      <td>Animalia</td>\n",
       "      <td>Porifera</td>\n",
       "      <td>Hexactinellida</td>\n",
       "      <td>Lyssacinosida</td>\n",
       "      <td>Rossellidae</td>\n",
       "      <td>Scolymastra</td>\n",
       "      <td>joubini</td>\n",
       "      <td>Hexactinellid sponge</td>\n",
       "      <td>NaN</td>\n",
       "      <td>...</td>\n",
       "      <td>688</td>\n",
       "      <td>wild</td>\n",
       "      <td>medium</td>\n",
       "      <td>questionable</td>\n",
       "      <td>NaN</td>\n",
       "      <td>NaN</td>\n",
       "      <td>NaN</td>\n",
       "      <td>NaN</td>\n",
       "      <td>NaN</td>\n",
       "      <td>688</td>\n",
       "    </tr>\n",
       "    <tr>\n",
       "      <td>4215</td>\n",
       "      <td>4241</td>\n",
       "      <td>Plantae</td>\n",
       "      <td>Pinophyta</td>\n",
       "      <td>Pinopsida</td>\n",
       "      <td>Pinales</td>\n",
       "      <td>Pinaceae</td>\n",
       "      <td>Pinus</td>\n",
       "      <td>longaeva</td>\n",
       "      <td>Great Basin bristlecone pine</td>\n",
       "      <td>NaN</td>\n",
       "      <td>...</td>\n",
       "      <td>1289</td>\n",
       "      <td>wild</td>\n",
       "      <td>medium</td>\n",
       "      <td>acceptable</td>\n",
       "      <td>NaN</td>\n",
       "      <td>999.00</td>\n",
       "      <td>NaN</td>\n",
       "      <td>NaN</td>\n",
       "      <td>NaN</td>\n",
       "      <td>501,710,1289</td>\n",
       "    </tr>\n",
       "    <tr>\n",
       "      <td>4216</td>\n",
       "      <td>4242</td>\n",
       "      <td>Fungi</td>\n",
       "      <td>Ascomycota</td>\n",
       "      <td>Saccharomycetes</td>\n",
       "      <td>Saccharomycetales</td>\n",
       "      <td>Saccharomycetaceae</td>\n",
       "      <td>Saccharomyces</td>\n",
       "      <td>cerevisiae</td>\n",
       "      <td>Baker's yeast</td>\n",
       "      <td>NaN</td>\n",
       "      <td>...</td>\n",
       "      <td>NaN</td>\n",
       "      <td>captivity</td>\n",
       "      <td>large</td>\n",
       "      <td>acceptable</td>\n",
       "      <td>NaN</td>\n",
       "      <td>NaN</td>\n",
       "      <td>NaN</td>\n",
       "      <td>NaN</td>\n",
       "      <td>NaN</td>\n",
       "      <td>4,12,15,44,45,53,56,69,337,338,460,746,932,936...</td>\n",
       "    </tr>\n",
       "    <tr>\n",
       "      <td>4217</td>\n",
       "      <td>4243</td>\n",
       "      <td>Fungi</td>\n",
       "      <td>Ascomycota</td>\n",
       "      <td>Schizosaccharomycetes</td>\n",
       "      <td>Schizosaccharomycetales</td>\n",
       "      <td>Schizosaccharomycetaceae</td>\n",
       "      <td>Schizosaccharomyces</td>\n",
       "      <td>pombe</td>\n",
       "      <td>Fission yeast</td>\n",
       "      <td>NaN</td>\n",
       "      <td>...</td>\n",
       "      <td>NaN</td>\n",
       "      <td>unknown</td>\n",
       "      <td>small</td>\n",
       "      <td>low</td>\n",
       "      <td>NaN</td>\n",
       "      <td>NaN</td>\n",
       "      <td>NaN</td>\n",
       "      <td>NaN</td>\n",
       "      <td>NaN</td>\n",
       "      <td>772,878,1129</td>\n",
       "    </tr>\n",
       "    <tr>\n",
       "      <td>4218</td>\n",
       "      <td>4244</td>\n",
       "      <td>Fungi</td>\n",
       "      <td>Ascomycota</td>\n",
       "      <td>Sordariomycetes</td>\n",
       "      <td>Sordariales</td>\n",
       "      <td>Lasiosphaeriaceae</td>\n",
       "      <td>Podospora</td>\n",
       "      <td>anserina</td>\n",
       "      <td>Filamentous fungus</td>\n",
       "      <td>NaN</td>\n",
       "      <td>...</td>\n",
       "      <td>NaN</td>\n",
       "      <td>unknown</td>\n",
       "      <td>small</td>\n",
       "      <td>low</td>\n",
       "      <td>NaN</td>\n",
       "      <td>NaN</td>\n",
       "      <td>NaN</td>\n",
       "      <td>NaN</td>\n",
       "      <td>NaN</td>\n",
       "      <td>767,768,769,770,771,921,1203</td>\n",
       "    </tr>\n",
       "  </tbody>\n",
       "</table>\n",
       "<p>4219 rows × 31 columns</p>\n",
       "</div>"
      ],
      "text/plain": [
       "      HAGRID   Kingdom      Phylum                  Class  \\\n",
       "0          3  Animalia  Arthropoda           Branchiopoda   \n",
       "1          5  Animalia  Arthropoda                Insecta   \n",
       "2          6  Animalia  Arthropoda                Insecta   \n",
       "3          8  Animalia  Arthropoda                Insecta   \n",
       "4          9  Animalia  Arthropoda                Insecta   \n",
       "...      ...       ...         ...                    ...   \n",
       "4214    4239  Animalia    Porifera         Hexactinellida   \n",
       "4215    4241   Plantae   Pinophyta              Pinopsida   \n",
       "4216    4242     Fungi  Ascomycota        Saccharomycetes   \n",
       "4217    4243     Fungi  Ascomycota  Schizosaccharomycetes   \n",
       "4218    4244     Fungi  Ascomycota        Sordariomycetes   \n",
       "\n",
       "                        Order                    Family                Genus  \\\n",
       "0                 Diplostraca                Daphniidae              Daphnia   \n",
       "1                     Diptera             Drosophilidae           Drosophila   \n",
       "2                 Hymenoptera                    Apidae                 Apis   \n",
       "3                 Hymenoptera                Formicidae        Cardiocondyla   \n",
       "4                 Hymenoptera                Formicidae               Lasius   \n",
       "...                       ...                       ...                  ...   \n",
       "4214            Lyssacinosida               Rossellidae          Scolymastra   \n",
       "4215                  Pinales                  Pinaceae                Pinus   \n",
       "4216        Saccharomycetales        Saccharomycetaceae        Saccharomyces   \n",
       "4217  Schizosaccharomycetales  Schizosaccharomycetaceae  Schizosaccharomyces   \n",
       "4218              Sordariales         Lasiosphaeriaceae            Podospora   \n",
       "\n",
       "           Species                   Common name  Female maturity (days)  ...  \\\n",
       "0        pulicaria                       Daphnia                     NaN  ...   \n",
       "1     melanogaster                     Fruit fly                     7.0  ...   \n",
       "2        mellifera                     Honey bee                     NaN  ...   \n",
       "3        obscurior       Cardiocondyla obscurior                     NaN  ...   \n",
       "4            niger              Black garden ant                     NaN  ...   \n",
       "...            ...                           ...                     ...  ...   \n",
       "4214       joubini          Hexactinellid sponge                     NaN  ...   \n",
       "4215      longaeva  Great Basin bristlecone pine                     NaN  ...   \n",
       "4216    cerevisiae                 Baker's yeast                     NaN  ...   \n",
       "4217         pombe                 Fission yeast                     NaN  ...   \n",
       "4218      anserina            Filamentous fungus                     NaN  ...   \n",
       "\n",
       "      Source  Specimen origin  Sample size  Data quality  IMR (per yr)  \\\n",
       "0        NaN          unknown       medium    acceptable           NaN   \n",
       "1        NaN        captivity        large    acceptable          0.05   \n",
       "2        812          unknown       medium    acceptable           NaN   \n",
       "3       1293        captivity       medium    acceptable           NaN   \n",
       "4        411          unknown       medium    acceptable           NaN   \n",
       "...      ...              ...          ...           ...           ...   \n",
       "4214     688             wild       medium  questionable           NaN   \n",
       "4215    1289             wild       medium    acceptable           NaN   \n",
       "4216     NaN        captivity        large    acceptable           NaN   \n",
       "4217     NaN          unknown        small           low           NaN   \n",
       "4218     NaN          unknown        small           low           NaN   \n",
       "\n",
       "      MRDT (yrs)  Metabolic rate (W)  Body mass (g)  Temperature (K)  \\\n",
       "0            NaN                 NaN            NaN              NaN   \n",
       "1           0.04                 NaN            NaN              NaN   \n",
       "2            NaN                 NaN            NaN              NaN   \n",
       "3            NaN                 NaN            NaN              NaN   \n",
       "4            NaN                 NaN            NaN              NaN   \n",
       "...          ...                 ...            ...              ...   \n",
       "4214         NaN                 NaN            NaN              NaN   \n",
       "4215      999.00                 NaN            NaN              NaN   \n",
       "4216         NaN                 NaN            NaN              NaN   \n",
       "4217         NaN                 NaN            NaN              NaN   \n",
       "4218         NaN                 NaN            NaN              NaN   \n",
       "\n",
       "                                             References  \n",
       "0                                        1294,1295,1296  \n",
       "1     2,20,32,47,53,68,69,240,241,242,243,274,602,98...  \n",
       "2     63,407,408,741,805,806,808,812,815,828,830,831...  \n",
       "3                                                  1293  \n",
       "4                                           411,813,814  \n",
       "...                                                 ...  \n",
       "4214                                                688  \n",
       "4215                                       501,710,1289  \n",
       "4216  4,12,15,44,45,53,56,69,337,338,460,746,932,936...  \n",
       "4217                                       772,878,1129  \n",
       "4218                       767,768,769,770,771,921,1203  \n",
       "\n",
       "[4219 rows x 31 columns]"
      ]
     },
     "execution_count": 148,
     "metadata": {},
     "output_type": "execute_result"
    }
   ],
   "source": [
    "# Examining original dataset provided\n",
    "data"
   ]
  },
  {
   "cell_type": "markdown",
   "metadata": {},
   "source": [
    "If you examined the data you might have noticed that some rows have a `NaN` value in our columns of interest. \n",
    "We need to remove these rows from the data.\n",
    "You can use `np.isnan`, `np.isfinite` or any other method you'd like."
   ]
  },
  {
   "cell_type": "code",
   "execution_count": 149,
   "metadata": {},
   "outputs": [],
   "source": [
    "# Removing any rows with NaN values in Birth Weight or Litters/Clutches\n",
    "data = data.dropna(subset=['Birth weight (g)', 'Body mass (g)'])"
   ]
  },
  {
   "cell_type": "code",
   "execution_count": 150,
   "metadata": {},
   "outputs": [],
   "source": [
    "assert not np.isnan(data['Body mass (g)']).any() ###\n",
    "assert not np.isnan(data['Birth weight (g)']).any() ###"
   ]
  },
  {
   "cell_type": "markdown",
   "metadata": {},
   "source": [
    "We are looking for a possible linear relationship between the variables.\n",
    "\n",
    "Plot a scatter plot of the data, and consider if you should transform the data using a transformation such as log, square-root, reciprocal ($1/x$) or some other transformation that makes sense to you. \n",
    "Both columns might require transformations.\n",
    "\n",
    "Plot a new scatter plot of the transformed data.\n",
    "\n",
    "Don't forget the axes labels should change to reflect the transformation! \n",
    "But in the plot I left below I didn't put the name of the transformation I chose so that it is a _secret_..."
   ]
  },
  {
   "cell_type": "code",
   "execution_count": 151,
   "metadata": {},
   "outputs": [],
   "source": [
    "x = np.log(data['Body mass (g)'])\n",
    "y = np.log(data['Birth weight (g)'])"
   ]
  },
  {
   "cell_type": "code",
   "execution_count": 152,
   "metadata": {},
   "outputs": [
    {
     "data": {
      "image/png": "[encoded data removed]",
      "text/plain": [
       "<Figure size 576x432 with 1 Axes>"
      ]
     },
     "metadata": {
      "needs_background": "light"
     },
     "output_type": "display_data"
    }
   ],
   "source": [
    "plt.figure(figsize=(8,6))\n",
    "ax = sns.scatterplot(x,y)\n",
    "ax.set(title='Log Relationship: Mass vs. Birth Weight', \n",
    "        xlabel='Log Body Mass (g)', \n",
    "        ylabel='Log Birth Weight (g)')\n",
    "sns.despine()"
   ]
  },
  {
   "cell_type": "markdown",
   "metadata": {},
   "source": [
    "After applying a transformation for which there is a good correlation between the adult weight and the birth weight, create a linear model plot using Seaborn."
   ]
  },
  {
   "cell_type": "code",
   "execution_count": 153,
   "metadata": {},
   "outputs": [
    {
     "data": {
      "image/png": "[encoded data removed]",
      "text/plain": [
       "<Figure size 576x432 with 1 Axes>"
      ]
     },
     "metadata": {
      "needs_background": "light"
     },
     "output_type": "display_data"
    }
   ],
   "source": [
    "plt.figure(figsize=(8,6))\n",
    "ax = sns.regplot(x,y)\n",
    "ax.set(title='Linear Model on Log Relationship: Mass vs. Birth Weight', \n",
    "        xlabel='Log Body Mass (g)', \n",
    "        ylabel='Log Birth Weight (g)')\n",
    "sns.despine()"
   ]
  },
  {
   "cell_type": "markdown",
   "metadata": {},
   "source": [
    "Now we should be satisfied that there is a linear relationship between the variables.\n",
    "\n",
    "Please perform linear regression on the transformed data using `scipy.stats.linregress`.\n",
    "Print the intercept and slope of the regression.\n",
    "\n",
    "Note that if you used a different transformation you might get different values; that's OK as long as your results make sense."
   ]
  },
  {
   "cell_type": "code",
   "execution_count": 154,
   "metadata": {},
   "outputs": [],
   "source": [
    "slope, intercept, rvalue, pvalue, stderr = scipy.stats.linregress(x,y)"
   ]
  },
  {
   "cell_type": "code",
   "execution_count": 155,
   "metadata": {
    "collapsed": false,
    "jupyter": {
     "outputs_hidden": false
    },
    "scrolled": true
   },
   "outputs": [
    {
     "name": "stdout",
     "output_type": "stream",
     "text": [
      "intercept: -2.149, slope: 0.802\n"
     ]
    }
   ],
   "source": [
    "print(\"intercept: {:.3f}, slope: {:.3f}\".format(intercept, slope)) ###"
   ]
  },
  {
   "cell_type": "markdown",
   "metadata": {},
   "source": [
    "Note that `linregress` provides a p-value for the null hypothesis that the slope is 0.\n",
    "\n",
    "Think: What does it mean if the null hypothesis is rejected? \n",
    "\n",
    "Decide if the null hypothesis can be rejected and print a statement that summarizes the result regarding adult weight and birth weight.\n",
    "\n",
    "Don't forget to print the p-value to support your claim."
   ]
  },
  {
   "cell_type": "code",
   "execution_count": 156,
   "metadata": {},
   "outputs": [
    {
     "name": "stdout",
     "output_type": "stream",
     "text": [
      "p-value = 1.0604175476702822e-88 \n",
      "As the p-value equals zero, then there is a very high probability that we can reject the null hypothesis, \n",
      "and conclude that the positive relationship between adult weight and birth weight that we found \n",
      "is not a random result\n"
     ]
    }
   ],
   "source": [
    "print(\"p-value = {} \\nAs the p-value equals zero, then there is a very high probability that we can reject the null hypothesis, \\nand conclude that the positive relationship between adult weight and birth weight that we found \\nis not a random result\".format(pvalue))\n"
   ]
  },
  {
   "cell_type": "markdown",
   "metadata": {},
   "source": [
    "Finally, use the slope and intercept to predict the birth weight of offspring if the adult weight is 30kg (don't forget the transformation!)."
   ]
  },
  {
   "cell_type": "code",
   "execution_count": 157,
   "metadata": {},
   "outputs": [
    {
     "name": "stdout",
     "output_type": "stream",
     "text": [
      "The expected birth weight of an adult that weights 30kg is 452.493 grams\n"
     ]
    }
   ],
   "source": [
    "birth_weight = slope * np.log(30000) + intercept\n",
    "print(\"The expected birth weight of an adult that weights 30kg is {:.3f} grams\"\n",
    "      .format(np.exp(birth_weight)))"
   ]
  },
  {
   "cell_type": "markdown",
   "metadata": {},
   "source": [
    "# Exercise 2\n",
    "\n",
    "In this exercise we will load COVID-19 case surveillance data and plot the number of cases in some countries.\n",
    "The data is updated routinely by Imperial College London researchers: see [github repo](https://github.com/ImperialCollegeLondon/covid19model).\n",
    "\n",
    "- **Download the file using Python's `urllib`** from <https://github.com/ImperialCollegeLondon/covid19model/raw/v1.0/data/COVID-19-up-to-date.csv>.\n",
    "- **Load the data from the file using Pandas**\n",
    "- **Convert the `dateRep` column to a timestamp** using `pd.to_datetime` and set the result to a new column `date`."
   ]
  },
  {
   "cell_type": "code",
   "execution_count": 158,
   "metadata": {},
   "outputs": [],
   "source": [
    "url = 'https://github.com/ImperialCollegeLondon/covid19model/raw/v1.0/data/COVID-19-up-to-date.csv'\n",
    "fname = '../data/COVID-19-up-to-date'\n"
   ]
  },
  {
   "cell_type": "code",
   "execution_count": 159,
   "metadata": {},
   "outputs": [
    {
     "name": "stdout",
     "output_type": "stream",
     "text": [
      "Data file exists: True\n"
     ]
    }
   ],
   "source": [
    "if not os.path.exists(fname):\n",
    "    urllib.request.urlretrieve(url, fname)\n",
    "print(\"Data file exists:\", os.path.exists(fname))"
   ]
  },
  {
   "cell_type": "code",
   "execution_count": 160,
   "metadata": {},
   "outputs": [],
   "source": [
    "# Setting up new data df\n",
    "covid_data = pd.read_csv(fname, encoding='latin-1', header=None)\n",
    "header = covid_data.iloc[0]\n",
    "covid_data = covid_data[1:]\n",
    "covid_data.columns = header\n",
    "\n",
    "covid_data.cases = covid_data.cases.astype(int)"
   ]
  },
  {
   "cell_type": "code",
   "execution_count": 161,
   "metadata": {},
   "outputs": [],
   "source": [
    "# Adding another column with dateRep converted to timestamp\n",
    "covid_data['date'] = covid_data['dateRep'].apply(lambda x : pd.to_datetime(x,dayfirst=True))"
   ]
  },
  {
   "cell_type": "code",
   "execution_count": 163,
   "metadata": {},
   "outputs": [
    {
     "data": {
      "text/plain": [
       "['Austria', 'Israel', 'Belarus']"
      ]
     },
     "execution_count": 163,
     "metadata": {},
     "output_type": "execute_result"
    }
   ],
   "source": [
    "similar_counties = list(covid_countries.iloc[il_rank[0]-1:il_rank[0]+2]['countriesAndTerritories'])\n",
    "similar_counties"
   ]
  },
  {
   "cell_type": "code",
   "execution_count": 164,
   "metadata": {},
   "outputs": [
    {
     "data": {
      "text/html": [
       "<div>\n",
       "<style scoped>\n",
       "    .dataframe tbody tr th:only-of-type {\n",
       "        vertical-align: middle;\n",
       "    }\n",
       "\n",
       "    .dataframe tbody tr th {\n",
       "        vertical-align: top;\n",
       "    }\n",
       "\n",
       "    .dataframe thead th {\n",
       "        text-align: right;\n",
       "    }\n",
       "</style>\n",
       "<table border=\"1\" class=\"dataframe\">\n",
       "  <thead>\n",
       "    <tr style=\"text-align: right;\">\n",
       "      <th></th>\n",
       "      <th>dateRep</th>\n",
       "      <th>day</th>\n",
       "      <th>month</th>\n",
       "      <th>year</th>\n",
       "      <th>cases</th>\n",
       "      <th>deaths</th>\n",
       "      <th>countriesAndTerritories</th>\n",
       "      <th>geoId</th>\n",
       "      <th>countryterritoryCode</th>\n",
       "      <th>popData2018</th>\n",
       "      <th>date</th>\n",
       "    </tr>\n",
       "  </thead>\n",
       "  <tbody>\n",
       "    <tr>\n",
       "      <td>415</td>\n",
       "      <td>28/03/2020</td>\n",
       "      <td>28</td>\n",
       "      <td>3</td>\n",
       "      <td>2020</td>\n",
       "      <td>668</td>\n",
       "      <td>16</td>\n",
       "      <td>Austria</td>\n",
       "      <td>AT</td>\n",
       "      <td>AUT</td>\n",
       "      <td>8847037</td>\n",
       "      <td>2020-03-28</td>\n",
       "    </tr>\n",
       "    <tr>\n",
       "      <td>416</td>\n",
       "      <td>27/03/2020</td>\n",
       "      <td>27</td>\n",
       "      <td>3</td>\n",
       "      <td>2020</td>\n",
       "      <td>1141</td>\n",
       "      <td>18</td>\n",
       "      <td>Austria</td>\n",
       "      <td>AT</td>\n",
       "      <td>AUT</td>\n",
       "      <td>8847037</td>\n",
       "      <td>2020-03-27</td>\n",
       "    </tr>\n",
       "    <tr>\n",
       "      <td>417</td>\n",
       "      <td>26/03/2020</td>\n",
       "      <td>26</td>\n",
       "      <td>3</td>\n",
       "      <td>2020</td>\n",
       "      <td>606</td>\n",
       "      <td>4</td>\n",
       "      <td>Austria</td>\n",
       "      <td>AT</td>\n",
       "      <td>AUT</td>\n",
       "      <td>8847037</td>\n",
       "      <td>2020-03-26</td>\n",
       "    </tr>\n",
       "    <tr>\n",
       "      <td>418</td>\n",
       "      <td>25/03/2020</td>\n",
       "      <td>25</td>\n",
       "      <td>3</td>\n",
       "      <td>2020</td>\n",
       "      <td>796</td>\n",
       "      <td>5</td>\n",
       "      <td>Austria</td>\n",
       "      <td>AT</td>\n",
       "      <td>AUT</td>\n",
       "      <td>8847037</td>\n",
       "      <td>2020-03-25</td>\n",
       "    </tr>\n",
       "    <tr>\n",
       "      <td>419</td>\n",
       "      <td>24/03/2020</td>\n",
       "      <td>24</td>\n",
       "      <td>3</td>\n",
       "      <td>2020</td>\n",
       "      <td>855</td>\n",
       "      <td>9</td>\n",
       "      <td>Austria</td>\n",
       "      <td>AT</td>\n",
       "      <td>AUT</td>\n",
       "      <td>8847037</td>\n",
       "      <td>2020-03-24</td>\n",
       "    </tr>\n",
       "    <tr>\n",
       "      <td>...</td>\n",
       "      <td>...</td>\n",
       "      <td>...</td>\n",
       "      <td>...</td>\n",
       "      <td>...</td>\n",
       "      <td>...</td>\n",
       "      <td>...</td>\n",
       "      <td>...</td>\n",
       "      <td>...</td>\n",
       "      <td>...</td>\n",
       "      <td>...</td>\n",
       "      <td>...</td>\n",
       "    </tr>\n",
       "    <tr>\n",
       "      <td>3551</td>\n",
       "      <td>04/01/2020</td>\n",
       "      <td>4</td>\n",
       "      <td>1</td>\n",
       "      <td>2020</td>\n",
       "      <td>0</td>\n",
       "      <td>0</td>\n",
       "      <td>Israel</td>\n",
       "      <td>IL</td>\n",
       "      <td>ISR</td>\n",
       "      <td>8883800</td>\n",
       "      <td>2020-01-04</td>\n",
       "    </tr>\n",
       "    <tr>\n",
       "      <td>3552</td>\n",
       "      <td>03/01/2020</td>\n",
       "      <td>3</td>\n",
       "      <td>1</td>\n",
       "      <td>2020</td>\n",
       "      <td>0</td>\n",
       "      <td>0</td>\n",
       "      <td>Israel</td>\n",
       "      <td>IL</td>\n",
       "      <td>ISR</td>\n",
       "      <td>8883800</td>\n",
       "      <td>2020-01-03</td>\n",
       "    </tr>\n",
       "    <tr>\n",
       "      <td>3553</td>\n",
       "      <td>02/01/2020</td>\n",
       "      <td>2</td>\n",
       "      <td>1</td>\n",
       "      <td>2020</td>\n",
       "      <td>0</td>\n",
       "      <td>0</td>\n",
       "      <td>Israel</td>\n",
       "      <td>IL</td>\n",
       "      <td>ISR</td>\n",
       "      <td>8883800</td>\n",
       "      <td>2020-01-02</td>\n",
       "    </tr>\n",
       "    <tr>\n",
       "      <td>3554</td>\n",
       "      <td>01/01/2020</td>\n",
       "      <td>1</td>\n",
       "      <td>1</td>\n",
       "      <td>2020</td>\n",
       "      <td>0</td>\n",
       "      <td>0</td>\n",
       "      <td>Israel</td>\n",
       "      <td>IL</td>\n",
       "      <td>ISR</td>\n",
       "      <td>8883800</td>\n",
       "      <td>2020-01-01</td>\n",
       "    </tr>\n",
       "    <tr>\n",
       "      <td>3555</td>\n",
       "      <td>31/12/2019</td>\n",
       "      <td>31</td>\n",
       "      <td>12</td>\n",
       "      <td>2019</td>\n",
       "      <td>0</td>\n",
       "      <td>0</td>\n",
       "      <td>Israel</td>\n",
       "      <td>IL</td>\n",
       "      <td>ISR</td>\n",
       "      <td>8883800</td>\n",
       "      <td>2019-12-31</td>\n",
       "    </tr>\n",
       "  </tbody>\n",
       "</table>\n",
       "<p>256 rows × 11 columns</p>\n",
       "</div>"
      ],
      "text/plain": [
       "0        dateRep day month  year  cases deaths countriesAndTerritories geoId  \\\n",
       "415   28/03/2020  28     3  2020    668     16                 Austria    AT   \n",
       "416   27/03/2020  27     3  2020   1141     18                 Austria    AT   \n",
       "417   26/03/2020  26     3  2020    606      4                 Austria    AT   \n",
       "418   25/03/2020  25     3  2020    796      5                 Austria    AT   \n",
       "419   24/03/2020  24     3  2020    855      9                 Austria    AT   \n",
       "...          ...  ..   ...   ...    ...    ...                     ...   ...   \n",
       "3551  04/01/2020   4     1  2020      0      0                  Israel    IL   \n",
       "3552  03/01/2020   3     1  2020      0      0                  Israel    IL   \n",
       "3553  02/01/2020   2     1  2020      0      0                  Israel    IL   \n",
       "3554  01/01/2020   1     1  2020      0      0                  Israel    IL   \n",
       "3555  31/12/2019  31    12  2019      0      0                  Israel    IL   \n",
       "\n",
       "0    countryterritoryCode popData2018       date  \n",
       "415                   AUT     8847037 2020-03-28  \n",
       "416                   AUT     8847037 2020-03-27  \n",
       "417                   AUT     8847037 2020-03-26  \n",
       "418                   AUT     8847037 2020-03-25  \n",
       "419                   AUT     8847037 2020-03-24  \n",
       "...                   ...         ...        ...  \n",
       "3551                  ISR     8883800 2020-01-04  \n",
       "3552                  ISR     8883800 2020-01-03  \n",
       "3553                  ISR     8883800 2020-01-02  \n",
       "3554                  ISR     8883800 2020-01-01  \n",
       "3555                  ISR     8883800 2019-12-31  \n",
       "\n",
       "[256 rows x 11 columns]"
      ]
     },
     "execution_count": 164,
     "metadata": {},
     "output_type": "execute_result"
    }
   ],
   "source": [
    "covid_similar_countries = covid_data[\n",
    "    (covid_data['countriesAndTerritories'] == similar_counties[0]) | \n",
    "    (covid_data['countriesAndTerritories'] == similar_counties[1]) | \n",
    "    (covid_data['countriesAndTerritories'] == similar_counties[2])]\n",
    "\n",
    "covid_similar_countries"
   ]
  },
  {
   "cell_type": "markdown",
   "metadata": {},
   "source": [
    "**Plot the number of daily case (`cases` column)** for Israel and two other countries with similar population size (which is in the `popData2018` column).\n",
    "\n",
    "Don't forget axis labels and legends."
   ]
  },
  {
   "cell_type": "code",
   "execution_count": 165,
   "metadata": {},
   "outputs": [
    {
     "data": {
      "image/png": "[encoded data removed]",
      "text/plain": [
       "<Figure size 576x432 with 1 Axes>"
      ]
     },
     "metadata": {
      "needs_background": "light"
     },
     "output_type": "display_data"
    }
   ],
   "source": [
    "plt.figure(figsize=(8,6))\n",
    "ax = sns.lineplot(x='date', y='cases', \n",
    "            hue='countriesAndTerritories',\n",
    "            data = covid_similar_countries)\n",
    "ax.set(xlabel='Date', ylabel='Daily Cases', title='COVID-19 Daily Cases Trends')\n",
    "handles, labels = ax.get_legend_handles_labels()\n",
    "ax.legend(loc='upper left', bbox_to_anchor=(1, 1), labels=labels[1:])\n",
    "plt.xticks(rotation=45)\n",
    "sns.despine()"
   ]
  },
  {
   "cell_type": "markdown",
   "metadata": {},
   "source": [
    "**Plot the number of daily case (`cases` column)** for the five largest countries in the world.\n",
    "\n",
    "Try not to use country names but instead write generic code that finds the specific countries automatically.\n",
    "\n",
    "Since the number of cases differs markedly, consider using a log scale."
   ]
  },
  {
   "cell_type": "code",
   "execution_count": 166,
   "metadata": {},
   "outputs": [
    {
     "data": {
      "text/plain": [
       "['Pakistan', 'Indonesia', 'United_States_of_America', 'India', 'China']"
      ]
     },
     "execution_count": 166,
     "metadata": {},
     "output_type": "execute_result"
    }
   ],
   "source": [
    "largest_countries = list(covid_countries.iloc[-5:]['countriesAndTerritories'])\n",
    "largest_countries"
   ]
  },
  {
   "cell_type": "code",
   "execution_count": 167,
   "metadata": {},
   "outputs": [
    {
     "data": {
      "text/html": [
       "<div>\n",
       "<style scoped>\n",
       "    .dataframe tbody tr th:only-of-type {\n",
       "        vertical-align: middle;\n",
       "    }\n",
       "\n",
       "    .dataframe tbody tr th {\n",
       "        vertical-align: top;\n",
       "    }\n",
       "\n",
       "    .dataframe thead th {\n",
       "        text-align: right;\n",
       "    }\n",
       "</style>\n",
       "<table border=\"1\" class=\"dataframe\">\n",
       "  <thead>\n",
       "    <tr style=\"text-align: right;\">\n",
       "      <th></th>\n",
       "      <th>dateRep</th>\n",
       "      <th>day</th>\n",
       "      <th>month</th>\n",
       "      <th>year</th>\n",
       "      <th>cases</th>\n",
       "      <th>deaths</th>\n",
       "      <th>countriesAndTerritories</th>\n",
       "      <th>geoId</th>\n",
       "      <th>countryterritoryCode</th>\n",
       "      <th>popData2018</th>\n",
       "      <th>date</th>\n",
       "    </tr>\n",
       "  </thead>\n",
       "  <tbody>\n",
       "    <tr>\n",
       "      <td>1406</td>\n",
       "      <td>28/03/2020</td>\n",
       "      <td>28</td>\n",
       "      <td>3</td>\n",
       "      <td>2020</td>\n",
       "      <td>134</td>\n",
       "      <td>3</td>\n",
       "      <td>China</td>\n",
       "      <td>CN</td>\n",
       "      <td>CHN</td>\n",
       "      <td>1392730000</td>\n",
       "      <td>2020-03-28</td>\n",
       "    </tr>\n",
       "    <tr>\n",
       "      <td>1407</td>\n",
       "      <td>27/03/2020</td>\n",
       "      <td>27</td>\n",
       "      <td>3</td>\n",
       "      <td>2020</td>\n",
       "      <td>111</td>\n",
       "      <td>5</td>\n",
       "      <td>China</td>\n",
       "      <td>CN</td>\n",
       "      <td>CHN</td>\n",
       "      <td>1392730000</td>\n",
       "      <td>2020-03-27</td>\n",
       "    </tr>\n",
       "    <tr>\n",
       "      <td>1408</td>\n",
       "      <td>26/03/2020</td>\n",
       "      <td>26</td>\n",
       "      <td>3</td>\n",
       "      <td>2020</td>\n",
       "      <td>121</td>\n",
       "      <td>6</td>\n",
       "      <td>China</td>\n",
       "      <td>CN</td>\n",
       "      <td>CHN</td>\n",
       "      <td>1392730000</td>\n",
       "      <td>2020-03-26</td>\n",
       "    </tr>\n",
       "    <tr>\n",
       "      <td>1409</td>\n",
       "      <td>25/03/2020</td>\n",
       "      <td>25</td>\n",
       "      <td>3</td>\n",
       "      <td>2020</td>\n",
       "      <td>99</td>\n",
       "      <td>4</td>\n",
       "      <td>China</td>\n",
       "      <td>CN</td>\n",
       "      <td>CHN</td>\n",
       "      <td>1392730000</td>\n",
       "      <td>2020-03-25</td>\n",
       "    </tr>\n",
       "    <tr>\n",
       "      <td>1410</td>\n",
       "      <td>24/03/2020</td>\n",
       "      <td>24</td>\n",
       "      <td>3</td>\n",
       "      <td>2020</td>\n",
       "      <td>99</td>\n",
       "      <td>7</td>\n",
       "      <td>China</td>\n",
       "      <td>CN</td>\n",
       "      <td>CHN</td>\n",
       "      <td>1392730000</td>\n",
       "      <td>2020-03-24</td>\n",
       "    </tr>\n",
       "    <tr>\n",
       "      <td>...</td>\n",
       "      <td>...</td>\n",
       "      <td>...</td>\n",
       "      <td>...</td>\n",
       "      <td>...</td>\n",
       "      <td>...</td>\n",
       "      <td>...</td>\n",
       "      <td>...</td>\n",
       "      <td>...</td>\n",
       "      <td>...</td>\n",
       "      <td>...</td>\n",
       "      <td>...</td>\n",
       "    </tr>\n",
       "    <tr>\n",
       "      <td>7167</td>\n",
       "      <td>04/01/2020</td>\n",
       "      <td>4</td>\n",
       "      <td>1</td>\n",
       "      <td>2020</td>\n",
       "      <td>0</td>\n",
       "      <td>0</td>\n",
       "      <td>United_States_of_America</td>\n",
       "      <td>US</td>\n",
       "      <td>USA</td>\n",
       "      <td>327167434</td>\n",
       "      <td>2020-01-04</td>\n",
       "    </tr>\n",
       "    <tr>\n",
       "      <td>7168</td>\n",
       "      <td>03/01/2020</td>\n",
       "      <td>3</td>\n",
       "      <td>1</td>\n",
       "      <td>2020</td>\n",
       "      <td>0</td>\n",
       "      <td>0</td>\n",
       "      <td>United_States_of_America</td>\n",
       "      <td>US</td>\n",
       "      <td>USA</td>\n",
       "      <td>327167434</td>\n",
       "      <td>2020-01-03</td>\n",
       "    </tr>\n",
       "    <tr>\n",
       "      <td>7169</td>\n",
       "      <td>02/01/2020</td>\n",
       "      <td>2</td>\n",
       "      <td>1</td>\n",
       "      <td>2020</td>\n",
       "      <td>0</td>\n",
       "      <td>0</td>\n",
       "      <td>United_States_of_America</td>\n",
       "      <td>US</td>\n",
       "      <td>USA</td>\n",
       "      <td>327167434</td>\n",
       "      <td>2020-01-02</td>\n",
       "    </tr>\n",
       "    <tr>\n",
       "      <td>7170</td>\n",
       "      <td>01/01/2020</td>\n",
       "      <td>1</td>\n",
       "      <td>1</td>\n",
       "      <td>2020</td>\n",
       "      <td>0</td>\n",
       "      <td>0</td>\n",
       "      <td>United_States_of_America</td>\n",
       "      <td>US</td>\n",
       "      <td>USA</td>\n",
       "      <td>327167434</td>\n",
       "      <td>2020-01-01</td>\n",
       "    </tr>\n",
       "    <tr>\n",
       "      <td>7171</td>\n",
       "      <td>31/12/2019</td>\n",
       "      <td>31</td>\n",
       "      <td>12</td>\n",
       "      <td>2019</td>\n",
       "      <td>0</td>\n",
       "      <td>0</td>\n",
       "      <td>United_States_of_America</td>\n",
       "      <td>US</td>\n",
       "      <td>USA</td>\n",
       "      <td>327167434</td>\n",
       "      <td>2019-12-31</td>\n",
       "    </tr>\n",
       "  </tbody>\n",
       "</table>\n",
       "<p>432 rows × 11 columns</p>\n",
       "</div>"
      ],
      "text/plain": [
       "0        dateRep day month  year  cases deaths   countriesAndTerritories  \\\n",
       "1406  28/03/2020  28     3  2020    134      3                     China   \n",
       "1407  27/03/2020  27     3  2020    111      5                     China   \n",
       "1408  26/03/2020  26     3  2020    121      6                     China   \n",
       "1409  25/03/2020  25     3  2020     99      4                     China   \n",
       "1410  24/03/2020  24     3  2020     99      7                     China   \n",
       "...          ...  ..   ...   ...    ...    ...                       ...   \n",
       "7167  04/01/2020   4     1  2020      0      0  United_States_of_America   \n",
       "7168  03/01/2020   3     1  2020      0      0  United_States_of_America   \n",
       "7169  02/01/2020   2     1  2020      0      0  United_States_of_America   \n",
       "7170  01/01/2020   1     1  2020      0      0  United_States_of_America   \n",
       "7171  31/12/2019  31    12  2019      0      0  United_States_of_America   \n",
       "\n",
       "0    geoId countryterritoryCode popData2018       date  \n",
       "1406    CN                  CHN  1392730000 2020-03-28  \n",
       "1407    CN                  CHN  1392730000 2020-03-27  \n",
       "1408    CN                  CHN  1392730000 2020-03-26  \n",
       "1409    CN                  CHN  1392730000 2020-03-25  \n",
       "1410    CN                  CHN  1392730000 2020-03-24  \n",
       "...    ...                  ...         ...        ...  \n",
       "7167    US                  USA   327167434 2020-01-04  \n",
       "7168    US                  USA   327167434 2020-01-03  \n",
       "7169    US                  USA   327167434 2020-01-02  \n",
       "7170    US                  USA   327167434 2020-01-01  \n",
       "7171    US                  USA   327167434 2019-12-31  \n",
       "\n",
       "[432 rows x 11 columns]"
      ]
     },
     "execution_count": 167,
     "metadata": {},
     "output_type": "execute_result"
    }
   ],
   "source": [
    "covid_largest_countries = covid_data[\n",
    "    (covid_data['countriesAndTerritories'] == largest_countries[0]) | \n",
    "    (covid_data['countriesAndTerritories'] == largest_countries[1]) | \n",
    "    (covid_data['countriesAndTerritories'] == largest_countries[2]) |\n",
    "    (covid_data['countriesAndTerritories'] == largest_countries[3]) | \n",
    "    (covid_data['countriesAndTerritories'] == largest_countries[4]) ]\n",
    "covid_largest_countries"
   ]
  },
  {
   "cell_type": "code",
   "execution_count": 168,
   "metadata": {},
   "outputs": [
    {
     "data": {
      "image/png": "[encoded data removed]",
      "text/plain": [
       "<Figure size 432x288 with 1 Axes>"
      ]
     },
     "metadata": {
      "needs_background": "light"
     },
     "output_type": "display_data"
    }
   ],
   "source": [
    "plt.figure(figsize=(6,4))\n",
    "ax = sns.lineplot(x='date', y='cases', \n",
    "            hue='countriesAndTerritories',\n",
    "            data = covid_largest_countries)\n",
    "ax.set(xlabel='Date', ylabel='Daily Cases', title='COVID-19 Daily Cases Trends')\n",
    "ax.set_yscale('log')\n",
    "handles, labels = ax.get_legend_handles_labels()\n",
    "ax.legend(loc='upper left', bbox_to_anchor=(1, 1), labels=labels[1:])\n",
    "plt.xticks(rotation=45)\n",
    "sns.despine()"
   ]
  },
  {
   "cell_type": "markdown",
   "metadata": {},
   "source": [
    "**Plot a linear model of the log of the number of daily cases in USA over time**:\n",
    "\n",
    "- Create a `datetime` object for a starting date: March 1st, 2020\n",
    "- Keep only the rows for USA\n",
    "- Remove rows with a date earlier than the starting date\n",
    "- Create a new column `day` for the number of days since the start date: note that substracting `datetime` object creates a `timedetla` object that has a `days` attribute.\n",
    "- Create a new column `log-cases` that has the log of the `cases` column\n",
    "- Use Seaborn's `lmplot` to plot a linear model of `log-cases` vs `day`."
   ]
  },
  {
   "cell_type": "code",
   "execution_count": 173,
   "metadata": {},
   "outputs": [],
   "source": [
    "start_date = datetime(2020, 3, 1) ###"
   ]
  },
  {
   "cell_type": "code",
   "execution_count": 174,
   "metadata": {},
   "outputs": [],
   "source": [
    "covid_USA = covid_data[(covid_data['countryterritoryCode'] =='USA') & (covid_data['date'] >= start_date)]"
   ]
  },
  {
   "cell_type": "code",
   "execution_count": 175,
   "metadata": {},
   "outputs": [],
   "source": [
    "import warnings\n",
    "warnings.filterwarnings('ignore')\n",
    "\n",
    "covid_USA['day'] = covid_data['date'].apply(lambda x : (x - start_date).days)\n",
    "covid_USA['log-cases'] = covid_data['cases'].apply(lambda x: np.log(x))"
   ]
  },
  {
   "cell_type": "code",
   "execution_count": 176,
   "metadata": {},
   "outputs": [
    {
     "data": {
      "text/plain": [
       "<Figure size 720x576 with 0 Axes>"
      ]
     },
     "metadata": {},
     "output_type": "display_data"
    },
    {
     "data": {
      "image/png": "[encoded data removed]",
      "text/plain": [
       "<Figure size 360x360 with 1 Axes>"
      ]
     },
     "metadata": {
      "needs_background": "light"
     },
     "output_type": "display_data"
    }
   ],
   "source": [
    "plt.figure(figsize=(10,8))\n",
    "ax = sns.lmplot(x=\"day\", y=\"log-cases\", data=covid_USA)\n",
    "ax.set(xlabel='Day', ylabel='Log of Daily Cases', title='Log of Daily Cases (USA) - As of March-2020')\n",
    "sns.despine()"
   ]
  },
  {
   "cell_type": "markdown",
   "metadata": {},
   "source": [
    "**End of assignment**"
   ]
  }
 ],
 "metadata": {
  "kernelspec": {
   "display_name": "Python 3",
   "language": "python",
   "name": "python3"
  },
  "language_info": {
   "codemirror_mode": {
    "name": "ipython",
    "version": 3
   },
   "file_extension": ".py",
   "mimetype": "text/x-python",
   "name": "python",
   "nbconvert_exporter": "python",
   "pygments_lexer": "ipython3",
   "version": "3.7.4"
  }
 },
 "nbformat": 4,
 "nbformat_minor": 4
}
