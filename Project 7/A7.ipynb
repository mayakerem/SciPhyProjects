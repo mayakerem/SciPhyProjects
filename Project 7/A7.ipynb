{
  "nbformat": 4,
  "nbformat_minor": 0,
  "metadata": {
    "kernelspec": {
      "display_name": "SciPhy",
      "language": "python",
      "name": "sciphy"
    },
    "language_info": {
      "codemirror_mode": {
        "name": "ipython",
        "version": 3
      },
      "file_extension": ".py",
      "mimetype": "text/x-python",
      "name": "python",
      "nbconvert_exporter": "python",
      "pygments_lexer": "ipython3",
      "version": "3.7.6"
    },
    "colab": {
      "name": "A7.ipynb",
      "provenance": []
    },
    "accelerator": "GPU"
  },
  "cells": [
    {
      "cell_type": "markdown",
      "metadata": {
        "id": "CGvN6ORvDkNY",
        "colab_type": "text"
      },
      "source": [
        "# Assignment 7: Neural networks\n",
        "\n",
        "## [Scientific Computing with Python](http://scicompy.yoavram.com)\n",
        "## Yoav Ram\n",
        "\n",
        "# General instructions\n",
        "\n",
        "1. Do not remove any text or code cells; do not leave redundent print messages.\n",
        "1. When instructed to implement a function, use the given function names and parameters lists; failure to do so may cause test functions to fail during grading.\n",
        "1. When instructed to generate a plot, make sure that the plot is clear, that axes are propely labeled, and that the notebook is saved with the plot inline, so that the grader can see the plot without running the code. Make sure that you re-generate the plot if you changed the code!\n",
        "1. Code lines with a triple comment `###` should not be removed or modified, they are used for automatic grading.\n",
        "1. Note that there are 3 exercises and the last cell in the notebook says **end of assignment**; if you are missing anything please download the origianl file from the course website.\n",
        "1. Your code should run within a reasonable time (a few minutes) and you should use idioms learned in class, e.g. array opreations, numba, multiprocessig.\n",
        "1. Questions regarding the exercises should be posted to the course forum at the designated group (i.e. \"assignment7\"). You can post questions anonymously. You can also visit the Office Hours, but please do not email the course staff with questions about the exercise.\n",
        "1. Intructions for submitting the exercise are on the [course website](https://scicompy.yoavram.com/assignments).\n",
        "\n",
        "# Cloud computing with GPU\n",
        "\n",
        "**In Ex 2 and Ex 3 there is a benefit in running on a computer with a GPU. There are two ways to do that:**\n",
        "1. Use [**Google Colaboratory**](http://colab.research.google.com) (free.) Colaboratory provides free GPU usage for 12 hours inside a Jupyter notebook. Once you are inside colaboratory, upload this notebook, and change the runtime to Python 3 + GPU. Don't forget to download your notebook when you finish (from the File menu), although it will be saved in your Google Docs.\n",
        "\n",
        "1. Use **AWS Educate**. You can sign up for an AWS Educate account without a credict card, and get some free credits to use for AWS services. You can get an additional \\$50 for this course - just ask for it on Piazza and allow for 24 hrs.\n",
        "[Instructions are provided](https://aws.amazon.com/blogs/machine-learning/get-started-with-deep-learning-using-the-aws-deep-learning-ami/) for setting up a deep learning environment with conda, jupyter, and keras. Note that when you go over the credit limit (\\$50) your account will be suspended and you will not have access to your work, so plan accordingly. Some GPU-enabled instances estimated  costs are: p2.xlarge (Tesla K80) 22 USD/day; p3.2xlarge (2 x Tesla v100) 75 USD/day; p3.16xlarge (8 x Tesla v100) 600 USD/day. At this stage you should probably take the cheapest one.\n",
        "\n",
        "It may be worth the effort: epochs on the dataset used in Ex 2 and Ex 3 take about 15 secs on colaboratory, compared to 40 secs on my laptop. \n",
        "But it is not mandatory to work with a GPU, you can use your local CPU."
      ]
    },
    {
      "cell_type": "code",
      "metadata": {
        "id": "Y2iPGzK3DkNa",
        "colab_type": "code",
        "colab": {
          "base_uri": "https://localhost:8080/",
          "height": 88
        },
        "outputId": "8220b252-7155-4ce1-d681-263540ed9da7"
      },
      "source": [
        "###\n",
        "%matplotlib inline\n",
        "import numpy as np\n",
        "import matplotlib.pyplot as plt\n",
        "from tensorflow import keras\n",
        "import scipy.stats\n",
        "import seaborn as sns\n",
        "sns.set_context('notebook')\n",
        "\n",
        "import keras\n",
        "from keras.models import Sequential\n",
        "from keras.layers import Dense\n",
        "from keras.layers import Conv2D\n",
        "from keras.layers import Flatten\n",
        "\n",
        "import warnings\n",
        "warnings.filterwarnings(\"ignore\")"
      ],
      "execution_count": 1,
      "outputs": [
        {
          "output_type": "stream",
          "text": [
            "/usr/local/lib/python3.6/dist-packages/statsmodels/tools/_testing.py:19: FutureWarning: pandas.util.testing is deprecated. Use the functions in the public API at pandas.testing instead.\n",
            "  import pandas.util.testing as tm\n",
            "Using TensorFlow backend.\n"
          ],
          "name": "stderr"
        }
      ]
    },
    {
      "cell_type": "code",
      "metadata": {
        "id": "-QwciQmDDkNg",
        "colab_type": "code",
        "colab": {}
      },
      "source": [
        "###\n",
        "# this code is required for Ex 1\n",
        "def display_image(im):\n",
        "    plt.imshow(im.reshape((28, 28)), cmap='gray_r')\n",
        "    plt.xticks([])\n",
        "    plt.yticks([])\n",
        "    \n",
        "def fully_connected(ninputs, noutputs):\n",
        "    boundary = np.sqrt(6 / (ninputs + noutputs))\n",
        "    return np.random.uniform(-boundary, boundary, size=(ninputs, noutputs))\n",
        "\n",
        "def softmax(x):\n",
        "    expx = np.exp(x - x.max(axis=1, keepdims=True))\n",
        "    return expx / expx.sum(axis=1, keepdims=True)\n",
        "\n",
        "def accuracy(Yhat, Y):\n",
        "    return (Y.argmax(axis=1) == Yhat.argmax(axis=1)).mean()\n",
        "\n",
        "def cross_entropy(Yhat, Y):\n",
        "    ylogy = Y * np.log(Yhat)\n",
        "    return -ylogy.sum()\n",
        "\n",
        "def ReLU(X):\n",
        "    return np.maximum(X, 0)\n",
        "\n",
        "def dReLU(X):\n",
        "    return (X > 0).astype(float)\n",
        "\n",
        "def drop(X, keep_prob=1):\n",
        "    if keep_prob < 1:\n",
        "        X = X.copy() # we don't want to change X\n",
        "        keeps = np.random.rand(X.shape[1]) < keep_prob\n",
        "        # X.shape is (nsamples, nfeatures)\n",
        "        X[:, ~keeps] = 0 # ignore\n",
        "        X[:, keeps] *= (1/keep_prob) # normalize\n",
        "    return X\n",
        "\n",
        "def predict(Ws, X):\n",
        "    if X.ndim == 1:\n",
        "        X = X.reshape((1, -1))\n",
        "    return feed_forward(Ws, X, keep_prob=1)[-1]\n",
        "\n",
        "def display_prediction(idx):\n",
        "    prediction = predict(Ws, X_test[idx, :]).argmax()\n",
        "    print(prediction)\n",
        "    return display_image(X_test[idx])\n",
        "\n",
        "def loss(Ws, X, Y):\n",
        "    Yhat = predict(Ws, X)\n",
        "    return cross_entropy(Yhat, Y)\n",
        "\n",
        "def gradient_check(Ws, X, Y, Δ=1e-5):\n",
        "    dWs = back_propagation(Ws, X, Y, keep_prob=1)\n",
        "    Ws_ = [W.copy() for W in Ws]\n",
        "\n",
        "    for i, (W_, dW_) in enumerate(zip(Ws_, dWs)):\n",
        "        print('W{}'.format(i+1))\n",
        "        for i in range(W_.shape[0]):\n",
        "            for j in range(W_.shape[1]):\n",
        "                dw = dW_[i, j]\n",
        "                W_[i,j] += Δ\n",
        "                loss1 = loss(Ws_, X, Y)\n",
        "                W_[i,j] -= 2*Δ\n",
        "                loss2 = loss(Ws_, X, Y)\n",
        "                W_[i,j] += Δ\n",
        "                dw_ = (loss1 - loss2) / (2 * Δ)\n",
        "                rel_error = abs(dw - dw_) / abs(dw + dw_)\n",
        "                if not np.isclose(dw_, dw):\n",
        "                    print(i, j, dw, dw_, rel_error)\n",
        "                    \n",
        "def average(prev, curr, β):\n",
        "    return [\n",
        "        β * p + (1 - β) * c\n",
        "        for p, c\n",
        "        in zip(prev, curr)\n",
        "    ]\n",
        "    \n",
        "class AdamOptimizer:\n",
        "    def __init__(self, α=0.001, β1=0.9, β2=0.999, ϵ=1e-8):\n",
        "        self.α = α\n",
        "        self.β1 = β1\n",
        "        self.β2 = β2\n",
        "        self.ϵ = ϵ\n",
        "        self.m = None\n",
        "        self.v = None\n",
        "        self.t = 0\n",
        "\n",
        "    def send(self, gradients):\n",
        "        if self.m is None:\n",
        "            self.m = [0] * len(gradients)\n",
        "        if self.v is None:\n",
        "            self.v = [0] * len(gradients)\n",
        "\n",
        "        self.t += 1\n",
        "        αt = self.α * np.sqrt(1 - self.β2**self.t) / (1 - self.β1**self.t)\n",
        "        self.m = average(self.m, gradients, self.β1)        \n",
        "        self.v = average(self.v, (g*g for g in gradients), self.β2)\n",
        "\n",
        "        updates = [-αt * mi / (np.sqrt(vi) + self.ϵ) for mi, vi in zip(self.m, self.v)]\n",
        "        for upd in updates:\n",
        "            assert np.isfinite(upd).all()\n",
        "        return updates\n",
        "    \n",
        "def trainer(Ws, X, Y, optimizer, batch_size=50, keep_prob=1):    \n",
        "    nsamples = X.shape[0]\n",
        "    batch = 0\n",
        "    while True:\n",
        "        # get next batch\n",
        "        start = (batch * batch_size) % nsamples\n",
        "        stop = start + batch_size\n",
        "        batch_idx = range(start, stop)\n",
        "        X_, Y_ = X[batch_idx, :], Y[batch_idx, :]\n",
        "        \n",
        "        gradients = back_propagation(Ws, X_, Y_, keep_prob=keep_prob) # calculate gradients\n",
        "        \n",
        "        ΔWs = optimizer.send(gradients) # calculate updates\n",
        "        \n",
        "        for W, ΔW in zip(Ws, ΔWs): # apply updates\n",
        "            W += ΔW\n",
        "            \n",
        "        batch += 1\n",
        "        yield batch"
      ],
      "execution_count": 2,
      "outputs": []
    },
    {
      "cell_type": "markdown",
      "metadata": {
        "id": "WwAD1KvvDkNp",
        "colab_type": "text"
      },
      "source": [
        "# Ex 1\n",
        "\n",
        "Let's load the data for MNIST digits."
      ]
    },
    {
      "cell_type": "code",
      "metadata": {
        "id": "be5UIQ1GDkNq",
        "colab_type": "code",
        "colab": {
          "base_uri": "https://localhost:8080/",
          "height": 51
        },
        "outputId": "e0a1c488-ef12-47c0-85a1-0cbf5df9bd9e"
      },
      "source": [
        "###\n",
        "(X_train, Y_train), (X_test, Y_test) = keras.datasets.mnist.load_data()\n",
        "nsamples, width, height = X_train.shape\n",
        "nfeatures = width * height\n",
        "X_train = X_train.reshape(nsamples, nfeatures)\n",
        "X_test = X_test.reshape(-1, nfeatures)\n",
        "Y_train = keras.utils.to_categorical(Y_train)\n",
        "Y_test = keras.utils.to_categorical(Y_test)\n",
        "ncats = Y_test.shape[1]"
      ],
      "execution_count": 3,
      "outputs": [
        {
          "output_type": "stream",
          "text": [
            "Downloading data from https://s3.amazonaws.com/img-datasets/mnist.npz\n",
            "11493376/11490434 [==============================] - 1s 0us/step\n"
          ],
          "name": "stdout"
        }
      ]
    },
    {
      "cell_type": "code",
      "metadata": {
        "id": "tpxZoJGdDkN2",
        "colab_type": "code",
        "colab": {
          "base_uri": "https://localhost:8080/",
          "height": 765
        },
        "outputId": "db12ec4d-57d3-4078-89a3-09ddac65209d"
      },
      "source": [
        "# print(keras.datasets.mnist.load_data())\n",
        "print(X_train[1])"
      ],
      "execution_count": 4,
      "outputs": [
        {
          "output_type": "stream",
          "text": [
            "[  0   0   0   0   0   0   0   0   0   0   0   0   0   0   0   0   0   0\n",
            "   0   0   0   0   0   0   0   0   0   0   0   0   0   0   0   0   0   0\n",
            "   0   0   0   0   0   0   0   0   0   0   0   0   0   0   0   0   0   0\n",
            "   0   0   0   0   0   0   0   0   0   0   0   0   0   0   0   0   0   0\n",
            "   0   0   0   0   0   0   0   0   0   0   0   0   0   0   0   0   0   0\n",
            "   0   0   0   0   0   0   0   0   0   0   0   0   0   0   0   0   0   0\n",
            "   0   0   0   0   0   0   0   0   0   0   0   0   0   0   0   0   0   0\n",
            "   0  51 159 253 159  50   0   0   0   0   0   0   0   0   0   0   0   0\n",
            "   0   0   0   0   0   0   0   0   0   0  48 238 252 252 252 237   0   0\n",
            "   0   0   0   0   0   0   0   0   0   0   0   0   0   0   0   0   0   0\n",
            "   0  54 227 253 252 239 233 252  57   6   0   0   0   0   0   0   0   0\n",
            "   0   0   0   0   0   0   0   0   0  10  60 224 252 253 252 202  84 252\n",
            " 253 122   0   0   0   0   0   0   0   0   0   0   0   0   0   0   0   0\n",
            "   0 163 252 252 252 253 252 252  96 189 253 167   0   0   0   0   0   0\n",
            "   0   0   0   0   0   0   0   0   0   0  51 238 253 253 190 114 253 228\n",
            "  47  79 255 168   0   0   0   0   0   0   0   0   0   0   0   0   0   0\n",
            "   0  48 238 252 252 179  12  75 121  21   0   0 253 243  50   0   0   0\n",
            "   0   0   0   0   0   0   0   0   0   0  38 165 253 233 208  84   0   0\n",
            "   0   0   0   0 253 252 165   0   0   0   0   0   0   0   0   0   0   0\n",
            "   0   7 178 252 240  71  19  28   0   0   0   0   0   0 253 252 195   0\n",
            "   0   0   0   0   0   0   0   0   0   0   0  57 252 252  63   0   0   0\n",
            "   0   0   0   0   0   0 253 252 195   0   0   0   0   0   0   0   0   0\n",
            "   0   0   0 198 253 190   0   0   0   0   0   0   0   0   0   0 255 253\n",
            " 196   0   0   0   0   0   0   0   0   0   0   0  76 246 252 112   0   0\n",
            "   0   0   0   0   0   0   0   0 253 252 148   0   0   0   0   0   0   0\n",
            "   0   0   0   0  85 252 230  25   0   0   0   0   0   0   0   0   7 135\n",
            " 253 186  12   0   0   0   0   0   0   0   0   0   0   0  85 252 223   0\n",
            "   0   0   0   0   0   0   0   7 131 252 225  71   0   0   0   0   0   0\n",
            "   0   0   0   0   0   0  85 252 145   0   0   0   0   0   0   0  48 165\n",
            " 252 173   0   0   0   0   0   0   0   0   0   0   0   0   0   0  86 253\n",
            " 225   0   0   0   0   0   0 114 238 253 162   0   0   0   0   0   0   0\n",
            "   0   0   0   0   0   0   0   0  85 252 249 146  48  29  85 178 225 253\n",
            " 223 167  56   0   0   0   0   0   0   0   0   0   0   0   0   0   0   0\n",
            "  85 252 252 252 229 215 252 252 252 196 130   0   0   0   0   0   0   0\n",
            "   0   0   0   0   0   0   0   0   0   0  28 199 252 252 253 252 252 233\n",
            " 145   0   0   0   0   0   0   0   0   0   0   0   0   0   0   0   0   0\n",
            "   0   0   0  25 128 252 253 252 141  37   0   0   0   0   0   0   0   0\n",
            "   0   0   0   0   0   0   0   0   0   0   0   0   0   0   0   0   0   0\n",
            "   0   0   0   0   0   0   0   0   0   0   0   0   0   0   0   0   0   0\n",
            "   0   0   0   0   0   0   0   0   0   0   0   0   0   0   0   0   0   0\n",
            "   0   0   0   0   0   0   0   0   0   0   0   0   0   0   0   0   0   0\n",
            "   0   0   0   0   0   0   0   0   0   0   0   0   0   0   0   0   0   0\n",
            "   0   0   0   0   0   0   0   0   0   0   0   0   0   0   0   0   0   0\n",
            "   0   0   0   0   0   0   0   0   0   0]\n"
          ],
          "name": "stdout"
        }
      ]
    },
    {
      "cell_type": "markdown",
      "metadata": {
        "id": "ScxdvsewDkN8",
        "colab_type": "text"
      },
      "source": [
        "**Implement `feed_forward` and `back_propagation` from the FFN lecture using a `for` loop so that they work for any number of hidden layers.**\n",
        "\n",
        "Notes: \n",
        "- when implementing `back_propagation`, you can use the `gradient_check` function (from `A5.py`) to test that it works as expected.\n",
        "- please keep the functions signatures as supplied."
      ]
    },
    {
      "cell_type": "code",
      "metadata": {
        "id": "eiocF1yFDkN9",
        "colab_type": "code",
        "colab": {
          "base_uri": "https://localhost:8080/",
          "height": 459
        },
        "outputId": "4b525c12-e21a-4796-9d9f-495a5aee3d94"
      },
      "source": [
        "print((X_train, Y_train), (X_test, Y_test))\n",
        "print(ncats)"
      ],
      "execution_count": 5,
      "outputs": [
        {
          "output_type": "stream",
          "text": [
            "(array([[0, 0, 0, ..., 0, 0, 0],\n",
            "       [0, 0, 0, ..., 0, 0, 0],\n",
            "       [0, 0, 0, ..., 0, 0, 0],\n",
            "       ...,\n",
            "       [0, 0, 0, ..., 0, 0, 0],\n",
            "       [0, 0, 0, ..., 0, 0, 0],\n",
            "       [0, 0, 0, ..., 0, 0, 0]], dtype=uint8), array([[0., 0., 0., ..., 0., 0., 0.],\n",
            "       [1., 0., 0., ..., 0., 0., 0.],\n",
            "       [0., 0., 0., ..., 0., 0., 0.],\n",
            "       ...,\n",
            "       [0., 0., 0., ..., 0., 0., 0.],\n",
            "       [0., 0., 0., ..., 0., 0., 0.],\n",
            "       [0., 0., 0., ..., 0., 1., 0.]], dtype=float32)) (array([[0, 0, 0, ..., 0, 0, 0],\n",
            "       [0, 0, 0, ..., 0, 0, 0],\n",
            "       [0, 0, 0, ..., 0, 0, 0],\n",
            "       ...,\n",
            "       [0, 0, 0, ..., 0, 0, 0],\n",
            "       [0, 0, 0, ..., 0, 0, 0],\n",
            "       [0, 0, 0, ..., 0, 0, 0]], dtype=uint8), array([[0., 0., 0., ..., 1., 0., 0.],\n",
            "       [0., 0., 1., ..., 0., 0., 0.],\n",
            "       [0., 1., 0., ..., 0., 0., 0.],\n",
            "       ...,\n",
            "       [0., 0., 0., ..., 0., 0., 0.],\n",
            "       [0., 0., 0., ..., 0., 0., 0.],\n",
            "       [0., 0., 0., ..., 0., 0., 0.]], dtype=float32))\n",
            "10\n"
          ],
          "name": "stdout"
        }
      ]
    },
    {
      "cell_type": "code",
      "metadata": {
        "id": "4Tb7KiAUDkOK",
        "colab_type": "code",
        "colab": {}
      },
      "source": [
        "def feed_forward(Ws, X, keep_prob=1): ###\n",
        "    network = [X]\n",
        "    W_hidden = Ws[:-1] # All but last Ws\n",
        "    W_final = Ws[-1] # Last Ws\n",
        "    \n",
        "    for i, W in enumerate(W_hidden): # For all Ws of the hiddle layer\n",
        "        # For each layer\n",
        "        X = X @ W              # Computing dot product\n",
        "        X = drop(X,keep_prob)\n",
        "        X = ReLU(X)\n",
        "        network.append(X)      # Add layer\n",
        "  \n",
        "    # For the last layer   \n",
        "    X = X @ W_final   \n",
        "#     X = drop(X, keep_prob=keep_prob)\n",
        "    X = softmax(X) \n",
        "    network.append(X)      # Add layer\n",
        "\n",
        "    return network"
      ],
      "execution_count": 6,
      "outputs": []
    },
    {
      "cell_type": "code",
      "metadata": {
        "id": "ky16xE3WDkOp",
        "colab_type": "code",
        "colab": {}
      },
      "source": [
        "def back_propagation(Ws, X, Y, keep_prob=1): ###\n",
        "    layers = feed_forward(Ws, X, keep_prob=keep_prob) # X1, Z1, X2, Z2, Yhat\n",
        "    gradients = []\n",
        "\n",
        "    # In backprop we start with the last layer\n",
        "    layer = layers.pop() \n",
        "#     print('Layers.pop {}\\n'.format(layer.shape))\n",
        "#     print('Y {} \\n'.format(Y.shape))\n",
        "\n",
        "    delta = layer - Y # we dont want to consider target values\n",
        "#     print(Y)\n",
        "\n",
        "    Ws_num = len(Ws)+1 # We want to go over all the layer weights +1\n",
        "\n",
        "    for i in range(1,Ws_num):\n",
        "        # We start by getting the gradient\n",
        "        Z = layers.pop() # Current layer (will iterate as we iterate over range)\n",
        "        Z_transpose = Z.T\n",
        "        gradients.append(Z_transpose @ delta)  #adding the gradients of Z\n",
        "\n",
        "        if i == (Ws_num - 1):\n",
        "            break\n",
        "       \n",
        "        # Now we are calculating the cost\n",
        "\n",
        "        # Take the ith layer from the back (because in backprop we start with the last layer)\n",
        "        W_transpose = Ws[-i].T\n",
        "        delta = (delta @ W_transpose) * dReLU(Z)  # δ = δ • W * ReLU(Z)\n",
        "    # change order\n",
        "    gradients.reverse()\n",
        "    # sanity checks (From class)\n",
        "    assert len(gradients) == len(Ws), (len(gradients), len(Ws))\n",
        "    for dW, W in zip(gradients, Ws):\n",
        "        assert dW.shape == W.shape, (dW.shape, W.shape)\n",
        "    return gradients"
      ],
      "execution_count": 7,
      "outputs": []
    },
    {
      "cell_type": "markdown",
      "metadata": {
        "id": "csNYLtVkDkO7",
        "colab_type": "text"
      },
      "source": [
        "Now **train the FFN model** with 2 or more hidden layers, and print its accuracy on the test set.\n",
        "\n",
        "I was able to achieve 0.93 test accuracy with about 7-8 seconds of training."
      ]
    },
    {
      "cell_type": "code",
      "metadata": {
        "id": "JrtwwYIQDkO8",
        "colab_type": "code",
        "colab": {
          "base_uri": "https://localhost:8080/",
          "height": 34
        },
        "outputId": "7e4b9225-56e6-47a7-ed8e-2428ea3785ed"
      },
      "source": [
        "X_train.shape[1]"
      ],
      "execution_count": 15,
      "outputs": [
        {
          "output_type": "execute_result",
          "data": {
            "text/plain": [
              "784"
            ]
          },
          "metadata": {
            "tags": []
          },
          "execution_count": 15
        }
      ]
    },
    {
      "cell_type": "code",
      "metadata": {
        "id": "5sQuLTA-DkO_",
        "colab_type": "code",
        "colab": {}
      },
      "source": [
        "### change the ?s\n",
        "nhidden =784\n",
        "l1, l2 = 100, 50\n",
        "\n",
        "W1 = fully_connected(nhidden, l1)\n",
        "W2 = fully_connected(l1, l2)\n",
        "W3 = fully_connected(l2, 10)\n",
        "Ws = [W1, W2, W3]\n",
        "\n",
        "batch_size = 100\n",
        "train = trainer(Ws, X_train, Y_train, batch_size=batch_size, optimizer=AdamOptimizer())"
      ],
      "execution_count": 17,
      "outputs": []
    },
    {
      "cell_type": "code",
      "metadata": {
        "id": "RzOq9ikADkPD",
        "colab_type": "code",
        "colab": {
          "base_uri": "https://localhost:8080/",
          "height": 34
        },
        "outputId": "f2470df3-7522-4515-88dd-7adbd8079ca6"
      },
      "source": [
        "acc = accuracy(predict(Ws, X_test), Y_test)\n",
        "print(\"Accuracy: {:.4f}\".format(acc))"
      ],
      "execution_count": 18,
      "outputs": [
        {
          "output_type": "stream",
          "text": [
            "Accuracy: 0.0606\n"
          ],
          "name": "stdout"
        }
      ]
    },
    {
      "cell_type": "code",
      "metadata": {
        "id": "Bsiys170DkPI",
        "colab_type": "code",
        "colab": {
          "base_uri": "https://localhost:8080/",
          "height": 68
        },
        "outputId": "cc3e49b2-7e2a-4f09-df5e-573f5da458c0"
      },
      "source": [
        "### change the ?s\n",
        "epochs = 10\n",
        "for batch in train:\n",
        "    if batch == epochs * nsamples // batch_size: break\n",
        "\n",
        "acc = accuracy(predict(Ws, X_test), Y_test)\n",
        "print(\"Accuracy ({:d}): {:.4f}\".format(batch, acc))\n",
        "% time"
      ],
      "execution_count": 19,
      "outputs": [
        {
          "output_type": "stream",
          "text": [
            "Accuracy (6000): 0.9608\n",
            "CPU times: user 5 µs, sys: 2 µs, total: 7 µs\n",
            "Wall time: 6.68 µs\n"
          ],
          "name": "stdout"
        }
      ]
    },
    {
      "cell_type": "markdown",
      "metadata": {
        "id": "zN6slJLWDkPN",
        "colab_type": "text"
      },
      "source": [
        "# Ex 2\n",
        "\n",
        "## Keras\n",
        "\n",
        "[Keras](https://keras.io/) is a high-level neural networks API, written in Python and capable of running on top of TensorFlow, [CNTK](https://docs.microsoft.com/en-us/cognitive-toolkit/) (MS deep learning package), or [Theano](http://www.deeplearning.net/software/theano/).\n",
        "\n",
        "The main benefit is that it *allows for easy and fast prototyping*.\n",
        "\n",
        "Since version 1.4 of TensorFlow, Keras is installed with TensorFlow as a high-level interface to TensorFlow.\n",
        "\n",
        "## Fashion-MNIST datasetset\n",
        "\n",
        "The Fashion-MNIST dataset contains 60,000 28x28 grayscale images of 10 fashion categories, along with a test set of 10,000 images. This dataset can be used as a drop-in replacement for MNIST. The class labels are:\n",
        "\n",
        "\n",
        "| Label |\tDescription|\n",
        "|---|------------------|\n",
        "| 0 |\tT-shirt/top    |\n",
        "| 1 |\tTrouser        |\n",
        "| 2 |\tPullover       |\n",
        "| 3 |\tDress          |\n",
        "| 4 |\tCoat           |\n",
        "| 5 |\tSandal         |\n",
        "| 6 |\tShirt          |\n",
        "| 7 |\tSneaker        |\n",
        "| 8 |\tBag            |\n",
        "| 9 |\tAnkle boot     |\n",
        "\n",
        "See more information on this dataset in the [keras docs](https://keras.io/datasets/).\n",
        "\n",
        "In this exercise we will use Keras to train a neural network on the dataset. "
      ]
    },
    {
      "cell_type": "code",
      "metadata": {
        "id": "tFsAuAv0DkPN",
        "colab_type": "code",
        "colab": {
          "base_uri": "https://localhost:8080/",
          "height": 156
        },
        "outputId": "d939314d-57b6-40e7-df63-c14105f6583d"
      },
      "source": [
        "###\n",
        "%matplotlib inline\n",
        "import matplotlib.pyplot as plt\n",
        "import numpy as np\n",
        "\n",
        "import tensorflow as tf\n",
        "try:\n",
        "    import keras\n",
        "except ModuleNotFoundError:\n",
        "    from tensorflow import keras\n",
        "print('Keras', keras.__version__)\n",
        "print('GPU:', tf.test.is_gpu_available())\n",
        "print(tf.test.gpu_device_name())"
      ],
      "execution_count": 1,
      "outputs": [
        {
          "output_type": "stream",
          "text": [
            "Keras 2.3.1\n",
            "WARNING:tensorflow:From <ipython-input-1-22103d6e6c38>:12: is_gpu_available (from tensorflow.python.framework.test_util) is deprecated and will be removed in a future version.\n",
            "Instructions for updating:\n",
            "Use `tf.config.list_physical_devices('GPU')` instead.\n"
          ],
          "name": "stdout"
        },
        {
          "output_type": "stream",
          "text": [
            "Using TensorFlow backend.\n"
          ],
          "name": "stderr"
        },
        {
          "output_type": "stream",
          "text": [
            "GPU: True\n",
            "/device:GPU:0\n"
          ],
          "name": "stdout"
        }
      ]
    },
    {
      "cell_type": "code",
      "metadata": {
        "id": "rTqcNS1RDkPQ",
        "colab_type": "code",
        "colab": {
          "base_uri": "https://localhost:8080/",
          "height": 153
        },
        "outputId": "98fb0824-9491-4b95-baa2-03ea515bdbf5"
      },
      "source": [
        "###\n",
        "from tensorflow.keras.datasets import fashion_mnist\n",
        "(x_train, y_train), (x_test, y_test) = fashion_mnist.load_data()"
      ],
      "execution_count": 2,
      "outputs": [
        {
          "output_type": "stream",
          "text": [
            "Downloading data from https://storage.googleapis.com/tensorflow/tf-keras-datasets/train-labels-idx1-ubyte.gz\n",
            "32768/29515 [=================================] - 0s 0us/step\n",
            "Downloading data from https://storage.googleapis.com/tensorflow/tf-keras-datasets/train-images-idx3-ubyte.gz\n",
            "26427392/26421880 [==============================] - 0s 0us/step\n",
            "Downloading data from https://storage.googleapis.com/tensorflow/tf-keras-datasets/t10k-labels-idx1-ubyte.gz\n",
            "8192/5148 [===============================================] - 0s 0us/step\n",
            "Downloading data from https://storage.googleapis.com/tensorflow/tf-keras-datasets/t10k-images-idx3-ubyte.gz\n",
            "4423680/4422102 [==============================] - 0s 0us/step\n"
          ],
          "name": "stdout"
        }
      ]
    },
    {
      "cell_type": "markdown",
      "metadata": {
        "id": "6Vo8fodTDkPS",
        "colab_type": "text"
      },
      "source": [
        "We need to convert the images to a float32 between 0 and 1 and reshape to 28x28x1 (only one channel for black and white) because 2D convolutions expect 3D images (3rd dimension is channel or image).\n",
        "\n",
        "We also need to one-hot encode the labels, and to scale the data from 0-255 to 0-1."
      ]
    },
    {
      "cell_type": "code",
      "metadata": {
        "id": "ozMCQ8-DDkPT",
        "colab_type": "code",
        "colab": {}
      },
      "source": [
        "###\n",
        "x_train = x_train.astype('float32')\n",
        "x_test = x_test.astype('float32')\n",
        "x_train /= 255\n",
        "x_test /= 255\n",
        "x_train = x_train.reshape((-1, 28, 28, 1))\n",
        "x_test = x_test.reshape((-1, 28, 28, 1))\n",
        "num_classes = len(np.unique(y_train))\n",
        "y_train = keras.utils.to_categorical(y_train, num_classes)\n",
        "y_test = keras.utils.to_categorical(y_test, num_classes)"
      ],
      "execution_count": 3,
      "outputs": []
    },
    {
      "cell_type": "markdown",
      "metadata": {
        "id": "qXlX59_oDkPY",
        "colab_type": "text"
      },
      "source": [
        "Let's see the images."
      ]
    },
    {
      "cell_type": "code",
      "metadata": {
        "id": "_mvOmUlpDkPY",
        "colab_type": "code",
        "colab": {
          "base_uri": "https://localhost:8080/",
          "height": 160
        },
        "outputId": "70087b3a-ef7a-4cd2-c988-e5e3ef552230"
      },
      "source": [
        "###\n",
        "i = np.random.randint(0, x_train.shape[0])\n",
        "plt.figure(figsize=(2,2))\n",
        "plt.imshow(x_train[i, :, :, 0], cmap='gray_r')\n",
        "plt.xticks([]); plt.yticks([])\n",
        "print(y_train[i])"
      ],
      "execution_count": 4,
      "outputs": [
        {
          "output_type": "stream",
          "text": [
            "[0. 0. 0. 1. 0. 0. 0. 0. 0. 0.]\n"
          ],
          "name": "stdout"
        },
        {
          "output_type": "display_data",
          "data": {
            "image/png": "[encoded data removed]",
            "text/plain": [
              "<Figure size 144x144 with 1 Axes>"
            ]
          },
          "metadata": {
            "tags": []
          }
        }
      ]
    },
    {
      "cell_type": "markdown",
      "metadata": {
        "id": "qZfwEMQpDkPa",
        "colab_type": "text"
      },
      "source": [
        "## Using Keras\n",
        "\n",
        "A Keras model can be built by defining the model layers, then giving them to the `Sequential` model object.\n",
        "You could also first create the model object and the use its `add` method to add layers.\n",
        "\n",
        "A `Dense` layer uses matrix muliplication. We need to provide it with the number of outputs, in this case the number of categories, and the activation function, in this case the softmax function.\n",
        "\n",
        "A `Flatten` layer just flatten the input data - turns it into a 1D array.\n",
        "The first layer always has to be told the shape of the input (`X`) using `input_shape`.\n",
        "\n",
        "```python\n",
        "layers = [\n",
        "    keras.layers.LayerName(arguments),\n",
        "    ...\n",
        "]\n",
        "model = keras.models.Sequential(layers)\n",
        "```\n",
        "\n",
        "After defining the network, we can print a summary using `model.summary()`.\n",
        "Then, we need to compile the Keras model (which creates the underlying TensorFlow network) and configuring it for training.\n",
        "At this stage we can choose the [loss function](https://keras.io/api/losses/), the [optimizer](https://keras.io/api/optimizers/), and additional [metrics](https://keras.io/api/metrics/) we with to collect, such as accuracy.\n",
        "\n",
        "```python\n",
        "model.compile(\n",
        "    loss=...,\n",
        "    optimizer=...,\n",
        "    metrics=[...]\n",
        ")\n",
        "```\n",
        "\n",
        "After compiling the network, we are ready to train it by giving it the train and test datasets:\n",
        "Training is done by calling the `fit` method of the model object\n",
        "```python\n",
        "model.fit(\n",
        "    x_train, y_train,\n",
        "    batch_size=...,\n",
        "    epochs=...,\n",
        "    validation_data=(x_test, y_test)\n",
        ")\n",
        "```\n",
        "\n",
        "The `fit` method retuns a `history` object that can be used to plot the accuracy and loss over time (see plot below).\n",
        "\n",
        "**Build, train, and score a neural network**. \n",
        "\n",
        "You can use a feed forward network, or you can use a more sophisticated approach with a convolutional neural network (CNN). Or try both.\n",
        "As long as you reach a high enough accuracy (>80%) it is fine."
      ]
    },
    {
      "cell_type": "code",
      "metadata": {
        "id": "BU4uQM4CDkPb",
        "colab_type": "code",
        "colab": {}
      },
      "source": [
        "# Building the NN"
      ],
      "execution_count": 25,
      "outputs": []
    },
    {
      "cell_type": "code",
      "metadata": {
        "id": "OATSJuyPDkPf",
        "colab_type": "code",
        "colab": {}
      },
      "source": [
        "#initializing the model\n",
        "# model = Sequential()\n",
        "input_shape = (28, 28, 1)\n",
        "\n",
        "model = keras.Sequential([\n",
        "    keras.layers.Flatten(input_shape=input_shape),\n",
        "    keras.layers.Dense(64, activation='relu'),\n",
        "    keras.layers.Dense(32, activation='relu'),\n",
        "    keras.layers.Dense(10, activation='softmax')\n",
        "])"
      ],
      "execution_count": 32,
      "outputs": []
    },
    {
      "cell_type": "code",
      "metadata": {
        "id": "mpsVu7G8DkP-",
        "colab_type": "code",
        "colab": {
          "base_uri": "https://localhost:8080/",
          "height": 289
        },
        "outputId": "1aab8f64-f2bd-41bf-d0f1-aea83576edde"
      },
      "source": [
        "#To visualize neural network\n",
        "model.summary()"
      ],
      "execution_count": 33,
      "outputs": [
        {
          "output_type": "stream",
          "text": [
            "Model: \"sequential_2\"\n",
            "_________________________________________________________________\n",
            "Layer (type)                 Output Shape              Param #   \n",
            "=================================================================\n",
            "flatten_2 (Flatten)          (None, 784)               0         \n",
            "_________________________________________________________________\n",
            "dense_3 (Dense)              (None, 64)                50240     \n",
            "_________________________________________________________________\n",
            "dense_4 (Dense)              (None, 32)                2080      \n",
            "_________________________________________________________________\n",
            "dense_5 (Dense)              (None, 10)                330       \n",
            "=================================================================\n",
            "Total params: 52,650\n",
            "Trainable params: 52,650\n",
            "Non-trainable params: 0\n",
            "_________________________________________________________________\n"
          ],
          "name": "stdout"
        }
      ]
    },
    {
      "cell_type": "code",
      "metadata": {
        "id": "F1ZRuSiWDkQA",
        "colab_type": "code",
        "colab": {}
      },
      "source": [
        "model.compile(loss='categorical_crossentropy', \n",
        "              optimizer='adam', \n",
        "              metrics=['accuracy'])"
      ],
      "execution_count": 34,
      "outputs": []
    },
    {
      "cell_type": "code",
      "metadata": {
        "id": "c5ucO5ojDkQG",
        "colab_type": "code",
        "colab": {}
      },
      "source": [
        "# Training the NN"
      ],
      "execution_count": 30,
      "outputs": []
    },
    {
      "cell_type": "code",
      "metadata": {
        "id": "IXFA5IVhDkQL",
        "colab_type": "code",
        "colab": {
          "base_uri": "https://localhost:8080/",
          "height": 374
        },
        "outputId": "d6de53ed-4f5d-4f72-d0d7-7eac8d15e477"
      },
      "source": [
        "history = model.fit(x_train, \n",
        "                    y_train,\n",
        "                    epochs=10, \n",
        "                    batch_size=100,\n",
        "                    validation_data=(x_test, y_test)\n",
        "                   )"
      ],
      "execution_count": 35,
      "outputs": [
        {
          "output_type": "stream",
          "text": [
            "Train on 60000 samples, validate on 10000 samples\n",
            "Epoch 1/10\n",
            "60000/60000 [==============================] - 2s 39us/step - loss: 0.5822 - accuracy: 0.7963 - val_loss: 0.4630 - val_accuracy: 0.8400\n",
            "Epoch 2/10\n",
            "60000/60000 [==============================] - 2s 35us/step - loss: 0.4022 - accuracy: 0.8572 - val_loss: 0.4252 - val_accuracy: 0.8494\n",
            "Epoch 3/10\n",
            "60000/60000 [==============================] - 2s 40us/step - loss: 0.3649 - accuracy: 0.8695 - val_loss: 0.3837 - val_accuracy: 0.8638\n",
            "Epoch 4/10\n",
            "60000/60000 [==============================] - 2s 37us/step - loss: 0.3390 - accuracy: 0.8780 - val_loss: 0.3908 - val_accuracy: 0.8617\n",
            "Epoch 5/10\n",
            "60000/60000 [==============================] - 2s 36us/step - loss: 0.3214 - accuracy: 0.8844 - val_loss: 0.3723 - val_accuracy: 0.8656\n",
            "Epoch 6/10\n",
            "60000/60000 [==============================] - 2s 37us/step - loss: 0.3098 - accuracy: 0.8862 - val_loss: 0.3686 - val_accuracy: 0.8674\n",
            "Epoch 7/10\n",
            "60000/60000 [==============================] - 2s 38us/step - loss: 0.2986 - accuracy: 0.8910 - val_loss: 0.3441 - val_accuracy: 0.8782\n",
            "Epoch 8/10\n",
            "60000/60000 [==============================] - 2s 38us/step - loss: 0.2885 - accuracy: 0.8942 - val_loss: 0.3625 - val_accuracy: 0.8708\n",
            "Epoch 9/10\n",
            "60000/60000 [==============================] - 2s 34us/step - loss: 0.2786 - accuracy: 0.8977 - val_loss: 0.3814 - val_accuracy: 0.8621\n",
            "Epoch 10/10\n",
            "60000/60000 [==============================] - 2s 37us/step - loss: 0.2709 - accuracy: 0.9006 - val_loss: 0.3520 - val_accuracy: 0.8727\n"
          ],
          "name": "stdout"
        }
      ]
    },
    {
      "cell_type": "code",
      "metadata": {
        "id": "sTH7T_z9DkQN",
        "colab_type": "code",
        "colab": {}
      },
      "source": [
        "# Scoring the NN"
      ],
      "execution_count": 26,
      "outputs": []
    },
    {
      "cell_type": "code",
      "metadata": {
        "id": "2usUbkviDkQQ",
        "colab_type": "code",
        "colab": {
          "base_uri": "https://localhost:8080/",
          "height": 68
        },
        "outputId": "ff092d39-7ec9-454f-c778-12b97e73feda"
      },
      "source": [
        "### score trained model\n",
        "loss, acc = model.evaluate(x_test, y_test, verbose=1)\n",
        "print('Test loss:', loss)\n",
        "print('Test accuracy:', acc)"
      ],
      "execution_count": 36,
      "outputs": [
        {
          "output_type": "stream",
          "text": [
            "10000/10000 [==============================] - 1s 52us/step\n",
            "Test loss: 0.3519650325059891\n",
            "Test accuracy: 0.8726999759674072\n"
          ],
          "name": "stdout"
        }
      ]
    },
    {
      "cell_type": "code",
      "metadata": {
        "id": "x5pJr0n2DkQS",
        "colab_type": "code",
        "colab": {
          "base_uri": "https://localhost:8080/",
          "height": 279
        },
        "outputId": "ed1535e6-01fb-4512-a86f-5834ce890d67"
      },
      "source": [
        "### plot accuracy over training time\n",
        "plt.plot(history.history['accuracy'], label='train')\n",
        "plt.plot(history.history['val_accuracy'], label='test')\n",
        "plt.xlabel('epoch')\n",
        "plt.ylabel('accuracy')\n",
        "plt.legend();"
      ],
      "execution_count": 37,
      "outputs": [
        {
          "output_type": "display_data",
          "data": {
            "image/png": "[encoded data removed]",
            "text/plain": [
              "<Figure size 432x288 with 1 Axes>"
            ]
          },
          "metadata": {
            "tags": [],
            "needs_background": "light"
          }
        }
      ]
    },
    {
      "cell_type": "code",
      "metadata": {
        "id": "uunfg_F_DkQX",
        "colab_type": "code",
        "colab": {}
      },
      "source": [
        ""
      ],
      "execution_count": null,
      "outputs": []
    },
    {
      "cell_type": "code",
      "metadata": {
        "id": "IfgCLz5dDkQe",
        "colab_type": "code",
        "colab": {}
      },
      "source": [
        ""
      ],
      "execution_count": null,
      "outputs": []
    },
    {
      "cell_type": "code",
      "metadata": {
        "id": "dzRwX8BEDkQh",
        "colab_type": "code",
        "colab": {}
      },
      "source": [
        ""
      ],
      "execution_count": null,
      "outputs": []
    },
    {
      "cell_type": "code",
      "metadata": {
        "id": "fMA7eaYCDkQi",
        "colab_type": "code",
        "colab": {}
      },
      "source": [
        ""
      ],
      "execution_count": null,
      "outputs": []
    },
    {
      "cell_type": "code",
      "metadata": {
        "id": "w3HhDsFgDkQk",
        "colab_type": "code",
        "colab": {}
      },
      "source": [
        ""
      ],
      "execution_count": null,
      "outputs": []
    },
    {
      "cell_type": "code",
      "metadata": {
        "id": "7NvuMBF4DkQm",
        "colab_type": "code",
        "colab": {},
        "outputId": "fb8dd9c2-1649-4cac-f8f5-ddc1675971e0"
      },
      "source": [
        "### score trained model\n",
        "loss, acc = model.evaluate(x_test, y_test, verbose=1)\n",
        "print('Test loss:', loss)\n",
        "print('Test accuracy:', acc)"
      ],
      "execution_count": null,
      "outputs": [
        {
          "output_type": "stream",
          "text": [
            "10000/10000 [==============================] - 0s 33us/step\n",
            "Test loss: 0.36533783659935\n",
            "Test accuracy: 0.8720999956130981\n"
          ],
          "name": "stdout"
        }
      ]
    },
    {
      "cell_type": "code",
      "metadata": {
        "id": "oaD25PqGDkQp",
        "colab_type": "code",
        "colab": {},
        "outputId": "2f45b239-6167-480b-9ecf-81ec7ddf375e"
      },
      "source": [
        "### plot accuracy over training time\n",
        "plt.plot(history['accuracy'], label='train')\n",
        "plt.plot(history['val_accuracy'], label='test')\n",
        "plt.xlabel('epoch')\n",
        "plt.ylabel('accuracy')\n",
        "plt.legend();"
      ],
      "execution_count": null,
      "outputs": [
        {
          "output_type": "display_data",
          "data": {
            "image/png": "[encoded data removed]",
            "text/plain": [
              "<Figure size 432x288 with 1 Axes>"
            ]
          },
          "metadata": {
            "tags": [],
            "needs_background": "light"
          }
        }
      ]
    },
    {
      "cell_type": "markdown",
      "metadata": {
        "id": "GcM_HOE7DkQr",
        "colab_type": "text"
      },
      "source": [
        "**end of assignment**"
      ]
    }
  ]
}